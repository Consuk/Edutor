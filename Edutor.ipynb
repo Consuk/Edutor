{
 "cells": [
  {
   "cell_type": "markdown",
   "id": "3f460461-bcab-47dc-8940-c43d8a28ce07",
   "metadata": {},
   "source": [
    "# EDUTOR PROJECT BOOK PLANNING CLASSES\n"
   ]
  },
  {
   "cell_type": "markdown",
   "id": "3917e1e7-3746-44ce-bf48-081df252a355",
   "metadata": {},
   "source": [
    "## Authetification for Gemini"
   ]
  },
  {
   "cell_type": "code",
   "execution_count": 1,
   "id": "7b8e5f70-9e46-4069-9075-9fb8da210b27",
   "metadata": {},
   "outputs": [],
   "source": [
    "import os\n",
    "\n",
    "os.environ[\"GOOGLE_APPLICATION_CREDENTIALS\"] = r\"PATH_FOR_API_KEY\"\n"
   ]
  },
  {
   "cell_type": "code",
   "execution_count": 2,
   "id": "ea8fb09f-bc9b-4ed2-a90c-6b5c38c94b2f",
   "metadata": {},
   "outputs": [
    {
     "name": "stdout",
     "output_type": "stream",
     "text": [
      "Authenticated as: reto-pisa-up-25p@psa-sabia-llm-dv.iam.gserviceaccount.com\n",
      "Project ID: psa-sabia-llm-dv\n"
     ]
    }
   ],
   "source": [
    "import google.auth\n",
    "\n",
    "creds, project = google.auth.default()\n",
    "print(\"Authenticated as:\", creds.service_account_email)\n",
    "print(\"Project ID:\", project)\n"
   ]
  },
  {
   "cell_type": "code",
   "execution_count": 3,
   "id": "abec7fd7-45a4-4a2f-aaf7-19b9b7059a00",
   "metadata": {},
   "outputs": [
    {
     "name": "stderr",
     "output_type": "stream",
     "text": [
      "C:\\Users\\Trabajo\\.conda\\envs\\Edutor\\Lib\\site-packages\\tqdm\\auto.py:21: TqdmWarning: IProgress not found. Please update jupyter and ipywidgets. See https://ipywidgets.readthedocs.io/en/stable/user_install.html\n",
      "  from .autonotebook import tqdm as notebook_tqdm\n"
     ]
    }
   ],
   "source": [
    "import google.generativeai as genai\n",
    "\n",
    "\n",
    "# Load the Gemini 1.5 Pro model\n",
    "model = genai.GenerativeModel(model_name=\"models/gemini-1.5-pro-latest\")\n",
    "\n",
    "# # Simple prompt\n",
    "# response = model.generate_content(\"escribe un texto sobre como la ia funciona.\")\n",
    "\n",
    "# # Print the response\n",
    "# print(response.text)\n"
   ]
  },
  {
   "cell_type": "markdown",
   "id": "4ceb4e53-bf26-44fa-b5d1-cbfc5595fff9",
   "metadata": {},
   "source": [
    "## Input PDF"
   ]
  },
  {
   "cell_type": "code",
   "execution_count": null,
   "id": "c86a8af3-0ffb-442f-a845-afef2cb2bad1",
   "metadata": {},
   "outputs": [],
   "source": [
    "import fitz  # PyMuPDF\n",
    "def extract_text_from_pdf(pdf_path):\n",
    "    doc = fitz.open(pdf_path)\n",
    "    return \"\\n\".join(page.get_text() for page in doc)\n",
    "\n",
    "full_text = extract_text_from_pdf(r\"C:\\Users\\Trabajo\\Documents\\Proyecto_terminal\\Edutor\\Books\\storytelling-with-data-cole-nussbaumer-knaflic.pdf\")\n"
   ]
  },
  {
   "cell_type": "markdown",
   "id": "7e52ac47-c010-4578-b572-d8e3de5aa2da",
   "metadata": {},
   "source": [
    "### Split into chunks (e.g., 500 words with overlap):"
   ]
  },
  {
   "cell_type": "code",
   "execution_count": 5,
   "id": "274478b5-2002-49cc-bfa1-be35c582002b",
   "metadata": {},
   "outputs": [],
   "source": [
    "from langchain.text_splitter import RecursiveCharacterTextSplitter\n",
    "\n",
    "splitter = RecursiveCharacterTextSplitter(chunk_size=500, chunk_overlap=100)\n",
    "docs = splitter.create_documents([full_text])\n"
   ]
  },
  {
   "cell_type": "markdown",
   "id": "29ceca0b-cab7-4a76-8884-d8264ac2fb4f",
   "metadata": {},
   "source": [
    "## Create Embeddings and Store Them"
   ]
  },
  {
   "cell_type": "markdown",
   "id": "3b47a52e-8324-469f-9ceb-0b9625e59d14",
   "metadata": {},
   "source": [
    "### Local Transformers (temproary option)"
   ]
  },
  {
   "cell_type": "markdown",
   "id": "a5edd73e-8859-4077-b1b5-486b5da939d3",
   "metadata": {},
   "source": [
    "#### TF-IDF\n",
    "\n",
    "TF-IDF narrows down the top 50–100 candidate chunks (fast, keyword-based).\n",
    "\n",
    "Embeddings rank the best ones (accurate, semantic-based).\n",
    "\n",
    "Top k are passed to Gemini for planning."
   ]
  },
  {
   "cell_type": "code",
   "execution_count": 7,
   "id": "22b5724a-11d0-4039-8ebb-476376f3143d",
   "metadata": {},
   "outputs": [],
   "source": [
    "from sklearn.feature_extraction.text import TfidfVectorizer\n",
    "from sklearn.metrics.pairwise import cosine_similarity\n",
    "\n",
    "# Your LangChain split docs\n",
    "texts = [doc.page_content for doc in docs]\n",
    "\n",
    "# Create TF-IDF matrix for all chunks\n",
    "vectorizer = TfidfVectorizer(stop_words='english')\n",
    "tfidf_matrix = vectorizer.fit_transform(texts)\n"
   ]
  },
  {
   "cell_type": "markdown",
   "id": "af2b5cb5-77e4-4f54-9ba2-2aadd417927c",
   "metadata": {},
   "source": [
    "#### TF-IDF Pre-filtering"
   ]
  },
  {
   "cell_type": "code",
   "execution_count": 8,
   "id": "f4160040-c266-4fcf-bd2b-fba8c64191df",
   "metadata": {},
   "outputs": [],
   "source": [
    "query = \"Create a semester plan for teaching this book\"\n",
    "query_vec = vectorizer.transform([query])\n",
    "\n",
    "# Cosine similarity between query and all chunks\n",
    "similarities = cosine_similarity(query_vec, tfidf_matrix).flatten()\n",
    "\n",
    "# Get top 50 candidate chunks based on TF-IDF\n",
    "top_tfidf_indices = similarities.argsort()[::-1][:50]\n",
    "candidate_chunks = [texts[i] for i in top_tfidf_indices]\n"
   ]
  },
  {
   "cell_type": "markdown",
   "id": "cbd9420d-f7a9-407d-b0fc-3fa09e04e327",
   "metadata": {},
   "source": [
    "#### Embeddings with TF-IDF implementation"
   ]
  },
  {
   "cell_type": "code",
   "execution_count": 6,
   "id": "16288a7b-f5b8-4efc-a009-c42f9f09aa07",
   "metadata": {},
   "outputs": [],
   "source": [
    "from google.cloud import aiplatform\n",
    "import numpy as np\n",
    "import faiss\n",
    "from vertexai.language_models import TextEmbeddingModel\n",
    "import vertexai\n",
    "\n",
    "# # Load the embedding model\n",
    "# embedding_model = TextEmbeddingModel.from_pretrained(\"textembedding-gecko@latest\") \n",
    "\n",
    "# # Prepare your document texts\n",
    "# texts = [doc.page_content for doc in docs]\n",
    "\n",
    "# # Get embeddings\n",
    "# embeddings = [embedding.values for embedding in embedding_model.get_embeddings(texts)]\n",
    "\n",
    "# # Convert to numpy and store in FAISS\n",
    "# embeddings_np = np.array(embeddings)\n",
    "# dimension = embeddings_np.shape[1]\n",
    "\n",
    "# index = faiss.IndexFlatL2(dimension)\n",
    "# index.add(embeddings_np)\n",
    "\n",
    "# # Optional mapping to recover text later\n",
    "# text_index_map = {i: texts[i] for i in range(len(texts))}\n",
    "\n",
    "# # Save FAISS index\n",
    "# faiss.write_index(index, \"faiss_index/index.bin\")"
   ]
  },
  {
   "cell_type": "code",
   "execution_count": 9,
   "id": "32d71e07-399f-4693-b9da-17dda9c0e68d",
   "metadata": {},
   "outputs": [],
   "source": [
    "from sentence_transformers import SentenceTransformer\n",
    "import numpy as np\n",
    "\n",
    "embedding_model = SentenceTransformer(\"all-MiniLM-L6-v2\")\n",
    "\n",
    "# Embed query and candidate chunks\n",
    "query_embedding = embedding_model.encode([query])[0]\n",
    "chunk_embeddings = embedding_model.encode(candidate_chunks)\n",
    "\n",
    "# Compute cosine similarity manually\n",
    "chunk_embeddings = np.array(chunk_embeddings)\n",
    "query_embedding = np.array(query_embedding)\n",
    "\n",
    "cosine_scores = np.dot(chunk_embeddings, query_embedding) / (\n",
    "    np.linalg.norm(chunk_embeddings, axis=1) * np.linalg.norm(query_embedding)\n",
    ")\n"
   ]
  },
  {
   "cell_type": "markdown",
   "id": "c6afc655-8d86-4788-b6e1-b84761f86b5c",
   "metadata": {},
   "source": [
    "## Define Your RAG Prompt"
   ]
  },
  {
   "cell_type": "markdown",
   "id": "c184aee0-ccd6-41df-9044-28d746960e41",
   "metadata": {},
   "source": [
    "### Search in the FAISS index"
   ]
  },
  {
   "cell_type": "code",
   "execution_count": 10,
   "id": "90c43bb4-204c-4f5b-bbd8-726678bc1169",
   "metadata": {},
   "outputs": [],
   "source": [
    "# Get top 5 semantically relevant chunks\n",
    "top_semantic_indices = np.argsort(cosine_scores)[::-1][:5]\n",
    "relevant_chunks = [candidate_chunks[i] for i in top_semantic_indices]\n",
    "\n",
    "# Merge into context\n",
    "context = \"\\n\\n\".join(relevant_chunks)\n"
   ]
  },
  {
   "cell_type": "markdown",
   "id": "61507b02-6208-47b1-93c8-a8b56090d1ea",
   "metadata": {},
   "source": [
    "### Build the Prompt for Gemini"
   ]
  },
  {
   "cell_type": "code",
   "execution_count": 13,
   "id": "f2c29a1d-0d6b-4c13-8356-cdec66be9e97",
   "metadata": {},
   "outputs": [],
   "source": [
    "prompt = f\"\"\"\n",
    "You are an expert high school curriculum planner.\n",
    "\n",
    "Using ONLY the following excerpts from the book \"Storytelling with Data\":\n",
    "\n",
    "{context}\n",
    "\n",
    "Design a complete 60-day semester plan for teaching this book.\n",
    "\n",
    "For each day, provide the following:\n",
    "1. **Day Number**\n",
    "2. **Topic Title** – what specific concept will be covered that day.\n",
    "3. **Book Reference** – which chapter, section, or excerpt the content is based on.\n",
    "4. **Learning Objective** – what students should understand or be able to do by the end of the lesson.\n",
    "5. **Elaboration Points** – bullet points with key ideas or takeaways the teacher should elaborate on during the lesson.\n",
    "6. **Suggested Activities** – classroom exercises, discussions, or visual examples.\n",
    "7. **Homework** (optional) – short assignment based on the day's topic.\n",
    "8. **Why This Day Matters** – explain briefly why this content appears at this point in the sequence.\n",
    "\n",
    "Guidelines:\n",
    "- Keep the content aligned strictly to the book. Do NOT use external or invented topics.\n",
    "- Elaborate clearly on each point so a new teacher could confidently teach the material.\n",
    "- Use clear, practical language.\n",
    "- Avoid listing vague or generic ideas. Ground every suggestion in the book content.\n",
    "\"\"\"\n"
   ]
  },
  {
   "cell_type": "markdown",
   "id": "1a300424-66a1-440a-ae44-b3a97c71e5a9",
   "metadata": {},
   "source": [
    "### Send to Gemini 1.5 Pro"
   ]
  },
  {
   "cell_type": "code",
   "execution_count": 14,
   "id": "32e46ed5-f59b-4e07-ad56-da4ab0d0a748",
   "metadata": {},
   "outputs": [
    {
     "name": "stdout",
     "output_type": "stream",
     "text": [
      "## 60-Day Semester Plan for \"Storytelling with Data\"\n",
      "\n",
      "**Part 1: Foundations (Days 1-15)**\n",
      "\n",
      "**Day 1:** Introduction to Data Storytelling\n",
      "* **Book Reference:** Introduction, \"How this book is organized,\" \"storytellingwithdata.com\" excerpt\n",
      "* **Learning Objective:** Students will understand the importance of data storytelling and the structure of the book.\n",
      "* **Elaboration Points:**\n",
      "    * Data visualization is about more than just charts; it's about communicating insights.\n",
      "    * The book emphasizes practical application over pure theory.\n",
      "    * The sequential nature of the chapters builds upon previous concepts.\n",
      "* **Suggested Activities:** Class discussion: Why is data storytelling important in different fields? Brainstorm real-world examples.\n",
      "* **Why This Day Matters:** Sets the stage for the course and introduces the core philosophy of the book.\n",
      "\n",
      "**Day 2:** The Storytelling with Data Process\n",
      "* **Book Reference:** \"How this book is organized\"\n",
      "* **Learning Objective:** Students will grasp the chronological flow of the data storytelling process as presented in the book.\n",
      "* **Elaboration Points:**\n",
      "    * Emphasize the importance of following the book's order as later chapters build upon earlier ones.\n",
      "* **Suggested Activities:**  Create a visual flowchart representing the data storytelling process based on the book's organization.\n",
      "* **Why This Day Matters:**  Provides a roadmap for the rest of the course and underscores the interconnectedness of the concepts.\n",
      "\n",
      "**Day 3:** Setting the Stage for Effective Communication\n",
      "* **Book Reference:**  Implicit from the book's structure, preceding \"Think like a designer\" and \"Tell a story.\"\n",
      "* **Learning Objective:** Students will understand the importance of context and audience in data communication.\n",
      "* **Elaboration Points:**\n",
      "    *  Effective communication starts with understanding your audience and their needs.\n",
      "    * Context is crucial for framing the data and making it relevant.\n",
      "* **Suggested Activities:**  Analyze different examples of data visualizations and discuss how they cater (or fail to cater) to specific audiences.\n",
      "* **Why This Day Matters:**  Establishes the foundational importance of audience and context before diving into design principles.\n",
      "\n",
      "**Day 4-5:** Thinking Like a Designer (Part 1)\n",
      "* **Book Reference:** Chapter 5: \"Think like a designer\"\n",
      "* **Learning Objective:** Students will begin to apply design thinking principles to data visualization.\n",
      "* **Elaboration Points:**\n",
      "    *  Design is not just about aesthetics; it's about clarity and effectiveness.\n",
      "    *  Introduce basic design principles like visual hierarchy, use of whitespace, and color theory.\n",
      "* **Suggested Activities:** Redesign a poorly designed chart from a real-world example, focusing on improving clarity.\n",
      "* **Homework:** Find examples of well-designed and poorly designed data visualizations.\n",
      "* **Why These Days Matter:** Introduce the core principles of design thinking as it relates to data visualization.\n",
      "\n",
      "**Day 6-7:** Thinking Like a Designer (Part 2)\n",
      "* **Book Reference:** Chapter 5: \"Think like a designer\"\n",
      "* **Learning Objective:** Students will practice applying design principles to different types of data.\n",
      "* **Elaboration Points:** \n",
      "    * Discuss choosing the right chart type for different data types and communication goals.\n",
      "    *  Emphasize the importance of accessibility in design.\n",
      "* **Suggested Activities:**  Group project: Design different visualizations for the same dataset, each targeting a different audience.\n",
      "* **Homework:**  Redesign a chart from their previous homework using the newly learned principles.\n",
      "* **Why These Days Matter:** Reinforces design principles through practical application.\n",
      "\n",
      "**Day 8-15:** Telling a Story with Data (Part 1)\n",
      "* **Book Reference:** Chapter 6: \"Tell a story\"\n",
      "* **Learning Objective:** Students will understand the narrative structure of effective data stories.\n",
      "* **Elaboration Points:**\n",
      "    *  Introduce the concept of a narrative arc and how it applies to data storytelling.\n",
      "    *  Discuss different storytelling techniques, such as using anecdotes, metaphors, and emotional appeals.\n",
      "* **Suggested Activities:** Analyze case studies from the book and identify the narrative structure and storytelling techniques used.\n",
      "* **Homework:** Draft a short data story based on a simple dataset.\n",
      "* **Why These Days Matter:** Introduces the concept of storytelling as a framework for presenting data insights.\n",
      "\n",
      "\n",
      "**Part 2: Application and Refinement (Days 16-60)**\n",
      "\n",
      "**Days 16-60:** These days would delve deeper into the specific lessons mentioned in \"specific, real-world examples\" and the book club/workshop suggestions.  Since those specifics aren't provided in the excerpts, the curriculum cannot elaborate on their content directly.  However, the structure would follow a similar pattern as days 4-15:\n",
      "\n",
      "* **Focus on one core lesson per 2-3 days.** This allows for in-depth exploration and practical application.\n",
      "* **Leverage the \"specific, real-world examples\" mentioned in the excerpt.** These examples would be the core teaching material for these days.\n",
      "* **Implement book club style discussions.**  Students would analyze and discuss the application of the chapter's lesson to their own work or chosen case studies.\n",
      "* **Conduct workshops.** Students would present their own work and receive feedback from peers and instructor on how to improve their data storytelling.\n",
      "* **Continuously reinforce previously learned principles.** Design thinking and storytelling techniques should be incorporated into every activity.\n",
      "\n",
      "**Example Day Structure (Days 16-18 – Hypothetical Chapter on Data Cleaning):**\n",
      "\n",
      "**Day 16:** Introduction to Data Cleaning\n",
      "* **Book Reference:** Hypothetical Chapter X:  Data Cleaning\n",
      "* **Learning Objective:** Understand the importance of data cleaning and common techniques.\n",
      "* ... (Elaboration points, activities, homework follow the same format as above).\n",
      "\n",
      "**Day 17:** Practical Data Cleaning Exercise\n",
      "* **Book Reference:** Hypothetical Chapter X:  Data Cleaning, Real-World Example 1\n",
      "* **Learning Objective:** Apply data cleaning techniques to a real-world dataset.\n",
      "* ...\n",
      "\n",
      "**Day 18:**  Data Cleaning Workshop and Discussion\n",
      "* **Book Reference:** Hypothetical Chapter X:  Data Cleaning, utilizing book club suggestion\n",
      "* **Learning Objective:** Analyze and critique data cleaning processes, applying learned principles.\n",
      "* ...\n",
      "\n",
      "This structure would be repeated for each subsequent chapter's content, building upon previous lessons and incorporating the real-world examples and practical exercises mentioned in the excerpts. The final days of the semester could be devoted to student project presentations and a final review, consolidating all learned concepts.  This flexible framework allows for adaptation to the specific content of the book while adhering strictly to the information provided in the given excerpts.\n",
      "\n"
     ]
    }
   ],
   "source": [
    "from google.generativeai import GenerativeModel\n",
    "\n",
    "genai_model = GenerativeModel(model_name=\"models/gemini-1.5-pro-latest\")\n",
    "\n",
    "response = genai_model.generate_content(prompt)\n",
    "print(response.text)\n"
   ]
  },
  {
   "cell_type": "markdown",
   "id": "d90366ad-f7fe-4162-85df-d2296474fe93",
   "metadata": {},
   "source": [
    "# EDUTOR QUIZZ GENERATOR"
   ]
  },
  {
   "cell_type": "markdown",
   "id": "e31b496e-8e76-4730-904e-2b6b30749553",
   "metadata": {},
   "source": [
    "## "
   ]
  },
  {
   "cell_type": "code",
   "execution_count": 19,
   "id": "30f51383-044c-4183-8baf-9a01a81d9730",
   "metadata": {},
   "outputs": [],
   "source": [
    "def build_quiz_prompt(response_quiz: str, depth_level: int) -> str:\n",
    "    return f\"\"\"\n",
    "You are a high school assessment designer.\n",
    "\n",
    "A user has input a cognitive depth level from 1 (basic recall) to 10 (full application). For this case, the level is: **{depth_level}**\n",
    "\n",
    "Based on the following 60-day lesson plan for the course \"Storytelling with Data\", generate two midterm quizzes:\n",
    "\n",
    "Lesson Plan:\n",
    "{response_quiz}\n",
    "\n",
    "Generate:\n",
    "- **Midterm 1 Quiz**: Based on content from Days 1–30.\n",
    "- **Midterm 2 Quiz**: Based on content from Days 31–60.\n",
    "\n",
    "Each quiz should include:\n",
    "1. 10 multiple-choice questions (with 4 answer options labeled A–D)\n",
    "2. An answer key at the end\n",
    "3. Each question should reference the specific **day number** it’s based on\n",
    "\n",
    "Instructions:\n",
    "- If the level is **1–3**, write questions and answers that are **directly pulled from the lesson content** (basic recall).\n",
    "- If the level is **4–7**, include questions that ask students to **interpret or explain concepts** with mild application.\n",
    "- If the level is **8–10**, write questions that require **higher-order thinking**, such as applying concepts in new situations, comparing alternatives, or making design decisions — **not directly answerable by copying text**.\n",
    "\n",
    "Ensure that:\n",
    "- All questions stay grounded in the lesson plan (don’t invent unrelated topics).\n",
    "- The complexity matches the selected level.\n",
    "\"\"\"\n"
   ]
  },
  {
   "cell_type": "code",
   "execution_count": 20,
   "id": "3b3729f5-4ed7-41d5-9e7e-4a2d9aee5786",
   "metadata": {},
   "outputs": [
    {
     "name": "stdout",
     "output_type": "stream",
     "text": [
      "Choose quiz depth (1–10):  5\n"
     ]
    }
   ],
   "source": [
    "depth = int(input(\"Choose quiz depth (1–10): \"))"
   ]
  },
  {
   "cell_type": "code",
   "execution_count": 21,
   "id": "1985be19-47cc-4c3f-b20b-4f2fd1383101",
   "metadata": {},
   "outputs": [
    {
     "name": "stdout",
     "output_type": "stream",
     "text": [
      "## Storytelling with Data - Midterm 1 Quiz (Days 1-30) - Cognitive Level 5\n",
      "\n",
      "**Instructions:** Choose the best answer for each multiple-choice question.\n",
      "\n",
      "1. **(Day 1)** Which of the following best describes the core philosophy of the \"Storytelling with Data\" approach?\n",
      "    A) Prioritizing complex charting techniques over clear communication.\n",
      "    B) Emphasizing theoretical models of data visualization.\n",
      "    C) Focusing on practical application and conveying insights.\n",
      "    D) Presenting data in a purely objective and unemotional manner.\n",
      "\n",
      "2. **(Day 2)** Why is understanding the \"Storytelling with Data\" process crucial?\n",
      "    A) It allows students to skip ahead to advanced topics.\n",
      "    B) It provides a structured approach to building upon concepts sequentially.\n",
      "    C) It encourages rote memorization of data visualization techniques.\n",
      "    D) It allows for a more random and flexible learning experience.\n",
      "\n",
      "3. **(Day 3)**  Effective communication of data insights starts with:\n",
      "    A) Selecting the most visually appealing chart.\n",
      "    B) Understanding the audience and context.\n",
      "    C) Applying complex statistical analysis.\n",
      "    D) Gathering the largest possible dataset.\n",
      "\n",
      "4. **(Days 4-5)** Design thinking in data visualization primarily focuses on:\n",
      "    A) Purely aesthetic considerations.\n",
      "    B) Clarity, effectiveness, and accessibility.\n",
      "    C) Using the most advanced charting software.\n",
      "    D) Incorporating as much data as possible into a single visualization.\n",
      "\n",
      "5. **(Days 4-5)**  Which design principle is NOT emphasized in the early stages of the course?\n",
      "    A) Visual hierarchy\n",
      "    B) Use of whitespace\n",
      "    C) 3D modelling techniques\n",
      "    D) Color theory\n",
      "\n",
      "6. **(Days 6-7)**  Choosing the correct chart type depends on:\n",
      "    A)  The software you are most comfortable with.\n",
      "    B) The data type and the communication goal.\n",
      "    C) The prevailing design trends of the time.\n",
      "    D)  Personal aesthetic preferences.\n",
      "\n",
      "7. **(Days 8-15)** How does a narrative arc enhance data storytelling?\n",
      "    A) It ensures all data points are equally emphasized.\n",
      "    B) It provides a structure for conveying insights in a compelling and memorable way.\n",
      "    C) It eliminates the need for visual aids.\n",
      "    D) It prioritizes emotional appeal over factual accuracy.\n",
      "\n",
      "\n",
      "8. **(Days 8-15)** Which of the following is NOT a storytelling technique discussed in the course?\n",
      "    A) Anecdotes\n",
      "    B) Metaphors\n",
      "    C) Algorithmic data generation\n",
      "    D) Emotional appeals\n",
      "\n",
      "9. **(Days 16-18)** Why is data cleaning important in the storytelling process?  (Based on hypothetical Day 16 content)\n",
      "    A)  Clean data ensures more complex visualizations.\n",
      "    B) It guarantees the data story supports a predetermined conclusion.\n",
      "    C)  It prepares the data for accurate and effective analysis and visualization.\n",
      "    D) It allows for manipulation of data to fit desired narratives.\n",
      "\n",
      "10. **(Days 16-18)** How does the book club approach enhance learning about data cleaning? (Based on hypothetical Day 18 content)\n",
      "    A) It allows students to passively absorb information.\n",
      "    B) It facilitates discussion and critical analysis of data cleaning processes in real-world contexts.\n",
      "    C) It reduces the need for individual practice with data cleaning techniques.\n",
      "    D) It focuses solely on theoretical concepts without practical application.\n",
      "\n",
      "**Answer Key:** 1. C, 2. B, 3. B, 4. B, 5. C, 6. B, 7. B, 8. C, 9. C, 10. B\n",
      "\n",
      "\n",
      "\n",
      "## Storytelling with Data - Midterm 2 Quiz (Days 31-60) - Cognitive Level 5\n",
      "\n",
      "**Instructions:** Choose the best answer for each multiple-choice question.  Assume these questions relate to hypothetical chapters and examples covered during Days 31-60, building on the foundations established in the first half of the course.\n",
      "\n",
      "\n",
      "1. **(Days 31-33 - Hypothetical Chapter on Data Ethics)** Which of the following is a key ethical consideration in data storytelling?\n",
      "    A)  Presenting data to support pre-determined conclusions.\n",
      "    B)  Ensuring accurate representation and avoiding misleading visualizations.\n",
      "    C)  Maximizing visual appeal regardless of data integrity.\n",
      "    D)  Using complex charts to obscure inconvenient data points.\n",
      "\n",
      "2. **(Days 34-36 - Hypothetical Chapter on Choosing the Right Visual)** When choosing a visual for a specific dataset, the primary consideration should be:\n",
      "    A)  The visual’s aesthetic appeal.\n",
      "    B)  The complexity of the data being presented.\n",
      "    C)  The software's available visualization options.\n",
      "    D)  The communication goal and the intended audience's understanding.\n",
      "\n",
      "\n",
      "3. **(Days 37-39 - Hypothetical Chapter on Working with Color)** How can color be used effectively in data visualization?\n",
      "    A)  By using as many bright colors as possible to attract attention.\n",
      "    B)  By using color sparingly and purposefully to highlight key insights and create visual hierarchy.\n",
      "    C)  By selecting colors based on personal preference.\n",
      "    D)  By avoiding color altogether to maintain objectivity.\n",
      "\n",
      "\n",
      "4. **(Days 40-42 - Hypothetical Chapter on Presenting to Stakeholders)** What is a key aspect of presenting data stories to stakeholders?\n",
      "    A)  Using technical jargon to showcase expertise.\n",
      "    B)  Focusing solely on the data without interpretation.\n",
      "    C)  Tailoring the narrative and visuals to the specific audience and their needs.\n",
      "    D)  Presenting as much data as possible to avoid omissions.\n",
      "\n",
      "\n",
      "5. **(Days 43-45 - Hypothetical Chapter on Interactive Dashboards)**  Interactive dashboards are particularly effective for:\n",
      "    A)  Presenting static, unchanging datasets.\n",
      "    B)  Allowing users to explore data and discover insights at their own pace.\n",
      "    C)  Limiting audience engagement with the data.\n",
      "    D)  Printing static reports for distribution.\n",
      "\n",
      "\n",
      "6. **(Days 46-48 - Hypothetical Chapter on Data Accessibility)** Designing for data accessibility primarily aims to:\n",
      "    A)  Restrict access to sensitive data.\n",
      "    B)  Make data visualizations usable and understandable for everyone, including people with disabilities.\n",
      "    C)  Simplify data to the point of losing crucial nuance.\n",
      "    D)  Prioritize aesthetic appeal over clarity.\n",
      "\n",
      "\n",
      "7. **(Days 49-51 - Hypothetical Chapter on Mobile Design for Data Visualization)** Designing data visualizations for mobile devices requires:\n",
      "    A)  Using the same design principles as for desktop visualizations, regardless of screen size.\n",
      "    B)  Prioritizing complex and detailed charts to maximize information density.\n",
      "    C)  Adapting the design to smaller screens and touch interactions.\n",
      "    D)  Avoiding interactive elements to simplify the experience.\n",
      "\n",
      "\n",
      "8. **(Days 52-54 - Hypothetical Workshop on Data Story Critique)**  Constructive critique of data stories involves:\n",
      "    A)  Focusing solely on negative aspects of the presentation.\n",
      "    B)  Providing specific and actionable feedback to improve clarity, effectiveness, and engagement.\n",
      "    C)  Avoiding any criticism to protect the presenter's feelings.\n",
      "    D)  Comparing the presentation to pre-determined templates.\n",
      "\n",
      "\n",
      "9. **(Days 55-57 - Hypothetical Case Study Analysis)** Analyzing case studies of effective data stories helps students:\n",
      "    A)  Memorize specific examples without understanding underlying principles.\n",
      "    B)  Develop a critical eye for evaluating data storytelling techniques and their impact.\n",
      "    C)  Replicate successful data stories without adapting them to new contexts.\n",
      "    D)  Avoid the need for independent practice.\n",
      "\n",
      "\n",
      "10. **(Days 58-60 - Final Project Preparation)**  The final project allows students to demonstrate their ability to:\n",
      "    A)  Recite textbook definitions of data storytelling concepts.\n",
      "    B)  Apply the learned principles of data storytelling to a real-world dataset and communicate insights effectively.\n",
      "    C)  Create visually appealing charts without considering the audience or context.\n",
      "    D)  Present data in a purely objective and unemotional manner.\n",
      "\n",
      "\n",
      "**Answer Key:** 1. B, 2. D, 3. B, 4. C, 5. B, 6. B, 7. C, 8. B, 9. B, 10. B \n",
      "\n"
     ]
    }
   ],
   "source": [
    "from google.generativeai import GenerativeModel\n",
    "\n",
    "genai_model = GenerativeModel(model_name=\"models/gemini-1.5-pro-latest\")\n",
    "\n",
    "quiz_prompt = build_quiz_prompt(response.text, depth)\n",
    "\n",
    "response_quizz = genai_model.generate_content(quiz_prompt)\n",
    "print(response_quizz.text)\n"
   ]
  }
 ],
 "metadata": {
  "kernelspec": {
   "display_name": "Python 3 (ipykernel)",
   "language": "python",
   "name": "python3"
  },
  "language_info": {
   "codemirror_mode": {
    "name": "ipython",
    "version": 3
   },
   "file_extension": ".py",
   "mimetype": "text/x-python",
   "name": "python",
   "nbconvert_exporter": "python",
   "pygments_lexer": "ipython3",
   "version": "3.11.11"
  }
 },
 "nbformat": 4,
 "nbformat_minor": 5
}
